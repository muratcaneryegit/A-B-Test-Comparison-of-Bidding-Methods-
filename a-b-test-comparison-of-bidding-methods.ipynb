{
 "cells": [
  {
   "cell_type": "markdown",
   "id": "841aeb8e",
   "metadata": {
    "papermill": {
     "duration": 0.012379,
     "end_time": "2023-10-26T14:55:04.991906",
     "exception": false,
     "start_time": "2023-10-26T14:55:04.979527",
     "status": "completed"
    },
    "tags": []
   },
   "source": [
    "## BUSINESS PROBLEM"
   ]
  },
  {
   "cell_type": "markdown",
   "id": "09e1c110",
   "metadata": {
    "papermill": {
     "duration": 0.009719,
     "end_time": "2023-10-26T14:55:05.014065",
     "exception": false,
     "start_time": "2023-10-26T14:55:05.004346",
     "status": "completed"
    },
    "tags": []
   },
   "source": [
    "Using A/B Testing, differences in purchasing activities between two separate groups, known as Control and Test groups, will be examined."
   ]
  },
  {
   "cell_type": "markdown",
   "id": "09545a38",
   "metadata": {
    "papermill": {
     "duration": 0.008023,
     "end_time": "2023-10-26T14:55:05.029759",
     "exception": false,
     "start_time": "2023-10-26T14:55:05.021736",
     "status": "completed"
    },
    "tags": []
   },
   "source": [
    "## ABOUT DATASET"
   ]
  },
  {
   "cell_type": "markdown",
   "id": "736ea973",
   "metadata": {
    "papermill": {
     "duration": 0.007267,
     "end_time": "2023-10-26T14:55:05.044770",
     "exception": false,
     "start_time": "2023-10-26T14:55:05.037503",
     "status": "completed"
    },
    "tags": []
   },
   "source": [
    "Content: This dataset contains information about a company's website, including the number of ads seen and clicked on by users and earnings .\n",
    "\n",
    "Context: There are two separate datasets: Control and Test group. These data sets are located on separate pages of \"ab_testing.xlsxexcel\". MaximumBidding was applied to the Control group and AverageBidding was applied to the test group.\n",
    "\n",
    "COLUMNS\n",
    "\n",
    "* impression: Number of ad views\n",
    "* Click: Number of clicks on the ad displayed\n",
    "* Purchase: Number of products purchased after ads clicked\n",
    "* Earning: Earnings after purchased products"
   ]
  },
  {
   "cell_type": "markdown",
   "id": "88e221fa",
   "metadata": {
    "papermill": {
     "duration": 0.007052,
     "end_time": "2023-10-26T14:55:05.059897",
     "exception": false,
     "start_time": "2023-10-26T14:55:05.052845",
     "status": "completed"
    },
    "tags": []
   },
   "source": [
    "## TASK"
   ]
  },
  {
   "cell_type": "markdown",
   "id": "04dee2b4",
   "metadata": {
    "papermill": {
     "duration": 0.007108,
     "end_time": "2023-10-26T14:55:05.074824",
     "exception": false,
     "start_time": "2023-10-26T14:55:05.067716",
     "status": "completed"
    },
    "tags": []
   },
   "source": [
    "To perform the A/B test, hypotheses will first be created. Afterwards, an Assumption Check will be made. Depending on the result of the Assumption Check, parametric or non-parametric testing will be applied to the hypothesis. Finally, the evaluation will be made according to the p-value  obtained."
   ]
  },
  {
   "cell_type": "markdown",
   "id": "3a069fd1",
   "metadata": {
    "papermill": {
     "duration": 0.007733,
     "end_time": "2023-10-26T14:55:05.089852",
     "exception": false,
     "start_time": "2023-10-26T14:55:05.082119",
     "status": "completed"
    },
    "tags": []
   },
   "source": [
    "## PREPARING DATA"
   ]
  },
  {
   "cell_type": "code",
   "execution_count": 1,
   "id": "9a4973c6",
   "metadata": {
    "execution": {
     "iopub.execute_input": "2023-10-26T14:55:05.112669Z",
     "iopub.status.busy": "2023-10-26T14:55:05.111569Z",
     "iopub.status.idle": "2023-10-26T14:55:07.687622Z",
     "shell.execute_reply": "2023-10-26T14:55:07.685926Z"
    },
    "papermill": {
     "duration": 2.592049,
     "end_time": "2023-10-26T14:55:07.691000",
     "exception": false,
     "start_time": "2023-10-26T14:55:05.098951",
     "status": "completed"
    },
    "tags": []
   },
   "outputs": [],
   "source": [
    "import numpy as np\n",
    "import pandas as pd\n",
    "import matplotlib.pyplot as plt\n",
    "import seaborn as sns\n",
    "import statsmodels.stats.api as sms\n",
    "from scipy.stats import ttest_1samp, shapiro, levene, ttest_ind, mannwhitneyu, \\\n",
    "    pearsonr, spearmanr, kendalltau, f_oneway, kruskal\n",
    "from statsmodels.stats.proportion import proportions_ztest"
   ]
  },
  {
   "cell_type": "code",
   "execution_count": 2,
   "id": "24ff6f32",
   "metadata": {
    "execution": {
     "iopub.execute_input": "2023-10-26T14:55:07.710002Z",
     "iopub.status.busy": "2023-10-26T14:55:07.709268Z",
     "iopub.status.idle": "2023-10-26T14:55:08.200106Z",
     "shell.execute_reply": "2023-10-26T14:55:08.198587Z"
    },
    "papermill": {
     "duration": 0.503808,
     "end_time": "2023-10-26T14:55:08.203533",
     "exception": false,
     "start_time": "2023-10-26T14:55:07.699725",
     "status": "completed"
    },
    "tags": []
   },
   "outputs": [],
   "source": [
    "df_maxbid=pd.read_excel(\"/kaggle/input/ab-test12/ab_testing.xlsx\",sheet_name=\"Control Group\")\n",
    "df_avebid=pd.read_excel(\"/kaggle/input/ab-test12/ab_testing.xlsx\",sheet_name=\"Test Group\")"
   ]
  },
  {
   "cell_type": "code",
   "execution_count": 3,
   "id": "fea6e984",
   "metadata": {
    "execution": {
     "iopub.execute_input": "2023-10-26T14:55:08.221265Z",
     "iopub.status.busy": "2023-10-26T14:55:08.220567Z",
     "iopub.status.idle": "2023-10-26T14:55:08.266048Z",
     "shell.execute_reply": "2023-10-26T14:55:08.264235Z"
    },
    "papermill": {
     "duration": 0.057435,
     "end_time": "2023-10-26T14:55:08.268739",
     "exception": false,
     "start_time": "2023-10-26T14:55:08.211304",
     "status": "completed"
    },
    "tags": []
   },
   "outputs": [
    {
     "name": "stdout",
     "output_type": "stream",
     "text": [
      "<class 'pandas.core.frame.DataFrame'>\n",
      "RangeIndex: 40 entries, 0 to 39\n",
      "Data columns (total 4 columns):\n",
      " #   Column      Non-Null Count  Dtype  \n",
      "---  ------      --------------  -----  \n",
      " 0   Impression  40 non-null     float64\n",
      " 1   Click       40 non-null     float64\n",
      " 2   Purchase    40 non-null     float64\n",
      " 3   Earning     40 non-null     float64\n",
      "dtypes: float64(4)\n",
      "memory usage: 1.4 KB\n"
     ]
    }
   ],
   "source": [
    "df_maxbid.info()"
   ]
  },
  {
   "cell_type": "code",
   "execution_count": 4,
   "id": "8d36ca77",
   "metadata": {
    "execution": {
     "iopub.execute_input": "2023-10-26T14:55:08.286504Z",
     "iopub.status.busy": "2023-10-26T14:55:08.286061Z",
     "iopub.status.idle": "2023-10-26T14:55:08.294356Z",
     "shell.execute_reply": "2023-10-26T14:55:08.293278Z"
    },
    "papermill": {
     "duration": 0.019704,
     "end_time": "2023-10-26T14:55:08.296529",
     "exception": false,
     "start_time": "2023-10-26T14:55:08.276825",
     "status": "completed"
    },
    "tags": []
   },
   "outputs": [
    {
     "data": {
      "text/plain": [
       "(40, 4)"
      ]
     },
     "execution_count": 4,
     "metadata": {},
     "output_type": "execute_result"
    }
   ],
   "source": [
    "df_maxbid.shape"
   ]
  },
  {
   "cell_type": "code",
   "execution_count": 5,
   "id": "be3e03e5",
   "metadata": {
    "execution": {
     "iopub.execute_input": "2023-10-26T14:55:08.314214Z",
     "iopub.status.busy": "2023-10-26T14:55:08.313789Z",
     "iopub.status.idle": "2023-10-26T14:55:08.349272Z",
     "shell.execute_reply": "2023-10-26T14:55:08.347881Z"
    },
    "papermill": {
     "duration": 0.047974,
     "end_time": "2023-10-26T14:55:08.352355",
     "exception": false,
     "start_time": "2023-10-26T14:55:08.304381",
     "status": "completed"
    },
    "tags": []
   },
   "outputs": [
    {
     "data": {
      "text/html": [
       "<div>\n",
       "<style scoped>\n",
       "    .dataframe tbody tr th:only-of-type {\n",
       "        vertical-align: middle;\n",
       "    }\n",
       "\n",
       "    .dataframe tbody tr th {\n",
       "        vertical-align: top;\n",
       "    }\n",
       "\n",
       "    .dataframe thead th {\n",
       "        text-align: right;\n",
       "    }\n",
       "</style>\n",
       "<table border=\"1\" class=\"dataframe\">\n",
       "  <thead>\n",
       "    <tr style=\"text-align: right;\">\n",
       "      <th></th>\n",
       "      <th>count</th>\n",
       "      <th>mean</th>\n",
       "      <th>std</th>\n",
       "      <th>min</th>\n",
       "      <th>25%</th>\n",
       "      <th>50%</th>\n",
       "      <th>75%</th>\n",
       "      <th>max</th>\n",
       "    </tr>\n",
       "  </thead>\n",
       "  <tbody>\n",
       "    <tr>\n",
       "      <th>Impression</th>\n",
       "      <td>40.0</td>\n",
       "      <td>101711.449068</td>\n",
       "      <td>20302.157862</td>\n",
       "      <td>45475.942965</td>\n",
       "      <td>85726.690349</td>\n",
       "      <td>99790.701078</td>\n",
       "      <td>115212.816543</td>\n",
       "      <td>147539.336329</td>\n",
       "    </tr>\n",
       "    <tr>\n",
       "      <th>Click</th>\n",
       "      <td>40.0</td>\n",
       "      <td>5100.657373</td>\n",
       "      <td>1329.985498</td>\n",
       "      <td>2189.753157</td>\n",
       "      <td>4124.304129</td>\n",
       "      <td>5001.220602</td>\n",
       "      <td>5923.803596</td>\n",
       "      <td>7959.125069</td>\n",
       "    </tr>\n",
       "    <tr>\n",
       "      <th>Purchase</th>\n",
       "      <td>40.0</td>\n",
       "      <td>550.894059</td>\n",
       "      <td>134.108201</td>\n",
       "      <td>267.028943</td>\n",
       "      <td>470.095533</td>\n",
       "      <td>531.206307</td>\n",
       "      <td>637.957088</td>\n",
       "      <td>801.795020</td>\n",
       "    </tr>\n",
       "    <tr>\n",
       "      <th>Earning</th>\n",
       "      <td>40.0</td>\n",
       "      <td>1908.568300</td>\n",
       "      <td>302.917783</td>\n",
       "      <td>1253.989525</td>\n",
       "      <td>1685.847205</td>\n",
       "      <td>1975.160522</td>\n",
       "      <td>2119.802784</td>\n",
       "      <td>2497.295218</td>\n",
       "    </tr>\n",
       "  </tbody>\n",
       "</table>\n",
       "</div>"
      ],
      "text/plain": [
       "            count           mean           std           min           25%  \\\n",
       "Impression   40.0  101711.449068  20302.157862  45475.942965  85726.690349   \n",
       "Click        40.0    5100.657373   1329.985498   2189.753157   4124.304129   \n",
       "Purchase     40.0     550.894059    134.108201    267.028943    470.095533   \n",
       "Earning      40.0    1908.568300    302.917783   1253.989525   1685.847205   \n",
       "\n",
       "                     50%            75%            max  \n",
       "Impression  99790.701078  115212.816543  147539.336329  \n",
       "Click        5001.220602    5923.803596    7959.125069  \n",
       "Purchase      531.206307     637.957088     801.795020  \n",
       "Earning      1975.160522    2119.802784    2497.295218  "
      ]
     },
     "execution_count": 5,
     "metadata": {},
     "output_type": "execute_result"
    }
   ],
   "source": [
    "df_maxbid.describe().T"
   ]
  },
  {
   "cell_type": "code",
   "execution_count": 6,
   "id": "4242678d",
   "metadata": {
    "execution": {
     "iopub.execute_input": "2023-10-26T14:55:08.371141Z",
     "iopub.status.busy": "2023-10-26T14:55:08.370688Z",
     "iopub.status.idle": "2023-10-26T14:55:08.384963Z",
     "shell.execute_reply": "2023-10-26T14:55:08.383522Z"
    },
    "papermill": {
     "duration": 0.026379,
     "end_time": "2023-10-26T14:55:08.387195",
     "exception": false,
     "start_time": "2023-10-26T14:55:08.360816",
     "status": "completed"
    },
    "tags": []
   },
   "outputs": [
    {
     "data": {
      "text/html": [
       "<div>\n",
       "<style scoped>\n",
       "    .dataframe tbody tr th:only-of-type {\n",
       "        vertical-align: middle;\n",
       "    }\n",
       "\n",
       "    .dataframe tbody tr th {\n",
       "        vertical-align: top;\n",
       "    }\n",
       "\n",
       "    .dataframe thead th {\n",
       "        text-align: right;\n",
       "    }\n",
       "</style>\n",
       "<table border=\"1\" class=\"dataframe\">\n",
       "  <thead>\n",
       "    <tr style=\"text-align: right;\">\n",
       "      <th></th>\n",
       "      <th>Impression</th>\n",
       "      <th>Click</th>\n",
       "      <th>Purchase</th>\n",
       "      <th>Earning</th>\n",
       "    </tr>\n",
       "  </thead>\n",
       "  <tbody>\n",
       "    <tr>\n",
       "      <th>0</th>\n",
       "      <td>82529.459271</td>\n",
       "      <td>6090.077317</td>\n",
       "      <td>665.211255</td>\n",
       "      <td>2311.277143</td>\n",
       "    </tr>\n",
       "    <tr>\n",
       "      <th>1</th>\n",
       "      <td>98050.451926</td>\n",
       "      <td>3382.861786</td>\n",
       "      <td>315.084895</td>\n",
       "      <td>1742.806855</td>\n",
       "    </tr>\n",
       "    <tr>\n",
       "      <th>2</th>\n",
       "      <td>82696.023549</td>\n",
       "      <td>4167.965750</td>\n",
       "      <td>458.083738</td>\n",
       "      <td>1797.827447</td>\n",
       "    </tr>\n",
       "    <tr>\n",
       "      <th>3</th>\n",
       "      <td>109914.400398</td>\n",
       "      <td>4910.882240</td>\n",
       "      <td>487.090773</td>\n",
       "      <td>1696.229178</td>\n",
       "    </tr>\n",
       "    <tr>\n",
       "      <th>4</th>\n",
       "      <td>108457.762630</td>\n",
       "      <td>5987.655811</td>\n",
       "      <td>441.034050</td>\n",
       "      <td>1543.720179</td>\n",
       "    </tr>\n",
       "  </tbody>\n",
       "</table>\n",
       "</div>"
      ],
      "text/plain": [
       "      Impression        Click    Purchase      Earning\n",
       "0   82529.459271  6090.077317  665.211255  2311.277143\n",
       "1   98050.451926  3382.861786  315.084895  1742.806855\n",
       "2   82696.023549  4167.965750  458.083738  1797.827447\n",
       "3  109914.400398  4910.882240  487.090773  1696.229178\n",
       "4  108457.762630  5987.655811  441.034050  1543.720179"
      ]
     },
     "execution_count": 6,
     "metadata": {},
     "output_type": "execute_result"
    }
   ],
   "source": [
    "df_maxbid.head()"
   ]
  },
  {
   "cell_type": "code",
   "execution_count": 7,
   "id": "697461a8",
   "metadata": {
    "execution": {
     "iopub.execute_input": "2023-10-26T14:55:08.406817Z",
     "iopub.status.busy": "2023-10-26T14:55:08.406384Z",
     "iopub.status.idle": "2023-10-26T14:55:08.417756Z",
     "shell.execute_reply": "2023-10-26T14:55:08.416922Z"
    },
    "papermill": {
     "duration": 0.024063,
     "end_time": "2023-10-26T14:55:08.420444",
     "exception": false,
     "start_time": "2023-10-26T14:55:08.396381",
     "status": "completed"
    },
    "tags": []
   },
   "outputs": [
    {
     "name": "stdout",
     "output_type": "stream",
     "text": [
      "<class 'pandas.core.frame.DataFrame'>\n",
      "RangeIndex: 40 entries, 0 to 39\n",
      "Data columns (total 4 columns):\n",
      " #   Column      Non-Null Count  Dtype  \n",
      "---  ------      --------------  -----  \n",
      " 0   Impression  40 non-null     float64\n",
      " 1   Click       40 non-null     float64\n",
      " 2   Purchase    40 non-null     float64\n",
      " 3   Earning     40 non-null     float64\n",
      "dtypes: float64(4)\n",
      "memory usage: 1.4 KB\n"
     ]
    }
   ],
   "source": [
    "df_avebid.info()"
   ]
  },
  {
   "cell_type": "code",
   "execution_count": 8,
   "id": "5cf0f7ad",
   "metadata": {
    "execution": {
     "iopub.execute_input": "2023-10-26T14:55:08.439056Z",
     "iopub.status.busy": "2023-10-26T14:55:08.438632Z",
     "iopub.status.idle": "2023-10-26T14:55:08.445760Z",
     "shell.execute_reply": "2023-10-26T14:55:08.444640Z"
    },
    "papermill": {
     "duration": 0.019636,
     "end_time": "2023-10-26T14:55:08.448399",
     "exception": false,
     "start_time": "2023-10-26T14:55:08.428763",
     "status": "completed"
    },
    "tags": []
   },
   "outputs": [
    {
     "data": {
      "text/plain": [
       "(40, 4)"
      ]
     },
     "execution_count": 8,
     "metadata": {},
     "output_type": "execute_result"
    }
   ],
   "source": [
    "df_avebid.shape"
   ]
  },
  {
   "cell_type": "code",
   "execution_count": 9,
   "id": "e69544c1",
   "metadata": {
    "execution": {
     "iopub.execute_input": "2023-10-26T14:55:08.468159Z",
     "iopub.status.busy": "2023-10-26T14:55:08.467736Z",
     "iopub.status.idle": "2023-10-26T14:55:08.495078Z",
     "shell.execute_reply": "2023-10-26T14:55:08.493768Z"
    },
    "papermill": {
     "duration": 0.040841,
     "end_time": "2023-10-26T14:55:08.497957",
     "exception": false,
     "start_time": "2023-10-26T14:55:08.457116",
     "status": "completed"
    },
    "tags": []
   },
   "outputs": [
    {
     "data": {
      "text/html": [
       "<div>\n",
       "<style scoped>\n",
       "    .dataframe tbody tr th:only-of-type {\n",
       "        vertical-align: middle;\n",
       "    }\n",
       "\n",
       "    .dataframe tbody tr th {\n",
       "        vertical-align: top;\n",
       "    }\n",
       "\n",
       "    .dataframe thead th {\n",
       "        text-align: right;\n",
       "    }\n",
       "</style>\n",
       "<table border=\"1\" class=\"dataframe\">\n",
       "  <thead>\n",
       "    <tr style=\"text-align: right;\">\n",
       "      <th></th>\n",
       "      <th>count</th>\n",
       "      <th>mean</th>\n",
       "      <th>std</th>\n",
       "      <th>min</th>\n",
       "      <th>25%</th>\n",
       "      <th>50%</th>\n",
       "      <th>75%</th>\n",
       "      <th>max</th>\n",
       "    </tr>\n",
       "  </thead>\n",
       "  <tbody>\n",
       "    <tr>\n",
       "      <th>Impression</th>\n",
       "      <td>40.0</td>\n",
       "      <td>120512.411758</td>\n",
       "      <td>18807.448712</td>\n",
       "      <td>79033.834921</td>\n",
       "      <td>112691.970770</td>\n",
       "      <td>119291.300775</td>\n",
       "      <td>132050.578933</td>\n",
       "      <td>158605.920483</td>\n",
       "    </tr>\n",
       "    <tr>\n",
       "      <th>Click</th>\n",
       "      <td>40.0</td>\n",
       "      <td>3967.549761</td>\n",
       "      <td>923.095073</td>\n",
       "      <td>1836.629861</td>\n",
       "      <td>3376.819024</td>\n",
       "      <td>3931.359804</td>\n",
       "      <td>4660.497911</td>\n",
       "      <td>6019.695079</td>\n",
       "    </tr>\n",
       "    <tr>\n",
       "      <th>Purchase</th>\n",
       "      <td>40.0</td>\n",
       "      <td>582.106097</td>\n",
       "      <td>161.152513</td>\n",
       "      <td>311.629515</td>\n",
       "      <td>444.626828</td>\n",
       "      <td>551.355732</td>\n",
       "      <td>699.862360</td>\n",
       "      <td>889.910460</td>\n",
       "    </tr>\n",
       "    <tr>\n",
       "      <th>Earning</th>\n",
       "      <td>40.0</td>\n",
       "      <td>2514.890733</td>\n",
       "      <td>282.730852</td>\n",
       "      <td>1939.611243</td>\n",
       "      <td>2280.537426</td>\n",
       "      <td>2544.666107</td>\n",
       "      <td>2761.545405</td>\n",
       "      <td>3171.489708</td>\n",
       "    </tr>\n",
       "  </tbody>\n",
       "</table>\n",
       "</div>"
      ],
      "text/plain": [
       "            count           mean           std           min            25%  \\\n",
       "Impression   40.0  120512.411758  18807.448712  79033.834921  112691.970770   \n",
       "Click        40.0    3967.549761    923.095073   1836.629861    3376.819024   \n",
       "Purchase     40.0     582.106097    161.152513    311.629515     444.626828   \n",
       "Earning      40.0    2514.890733    282.730852   1939.611243    2280.537426   \n",
       "\n",
       "                      50%            75%            max  \n",
       "Impression  119291.300775  132050.578933  158605.920483  \n",
       "Click         3931.359804    4660.497911    6019.695079  \n",
       "Purchase       551.355732     699.862360     889.910460  \n",
       "Earning       2544.666107    2761.545405    3171.489708  "
      ]
     },
     "execution_count": 9,
     "metadata": {},
     "output_type": "execute_result"
    }
   ],
   "source": [
    "df_avebid.describe().T"
   ]
  },
  {
   "cell_type": "code",
   "execution_count": 10,
   "id": "d18d348a",
   "metadata": {
    "execution": {
     "iopub.execute_input": "2023-10-26T14:55:08.517454Z",
     "iopub.status.busy": "2023-10-26T14:55:08.517046Z",
     "iopub.status.idle": "2023-10-26T14:55:08.529555Z",
     "shell.execute_reply": "2023-10-26T14:55:08.528104Z"
    },
    "papermill": {
     "duration": 0.025427,
     "end_time": "2023-10-26T14:55:08.532172",
     "exception": false,
     "start_time": "2023-10-26T14:55:08.506745",
     "status": "completed"
    },
    "tags": []
   },
   "outputs": [
    {
     "data": {
      "text/html": [
       "<div>\n",
       "<style scoped>\n",
       "    .dataframe tbody tr th:only-of-type {\n",
       "        vertical-align: middle;\n",
       "    }\n",
       "\n",
       "    .dataframe tbody tr th {\n",
       "        vertical-align: top;\n",
       "    }\n",
       "\n",
       "    .dataframe thead th {\n",
       "        text-align: right;\n",
       "    }\n",
       "</style>\n",
       "<table border=\"1\" class=\"dataframe\">\n",
       "  <thead>\n",
       "    <tr style=\"text-align: right;\">\n",
       "      <th></th>\n",
       "      <th>Impression</th>\n",
       "      <th>Click</th>\n",
       "      <th>Purchase</th>\n",
       "      <th>Earning</th>\n",
       "    </tr>\n",
       "  </thead>\n",
       "  <tbody>\n",
       "    <tr>\n",
       "      <th>0</th>\n",
       "      <td>120103.503796</td>\n",
       "      <td>3216.547958</td>\n",
       "      <td>702.160346</td>\n",
       "      <td>1939.611243</td>\n",
       "    </tr>\n",
       "    <tr>\n",
       "      <th>1</th>\n",
       "      <td>134775.943363</td>\n",
       "      <td>3635.082422</td>\n",
       "      <td>834.054286</td>\n",
       "      <td>2929.405820</td>\n",
       "    </tr>\n",
       "    <tr>\n",
       "      <th>2</th>\n",
       "      <td>107806.620788</td>\n",
       "      <td>3057.143560</td>\n",
       "      <td>422.934258</td>\n",
       "      <td>2526.244877</td>\n",
       "    </tr>\n",
       "    <tr>\n",
       "      <th>3</th>\n",
       "      <td>116445.275526</td>\n",
       "      <td>4650.473911</td>\n",
       "      <td>429.033535</td>\n",
       "      <td>2281.428574</td>\n",
       "    </tr>\n",
       "    <tr>\n",
       "      <th>4</th>\n",
       "      <td>145082.516838</td>\n",
       "      <td>5201.387724</td>\n",
       "      <td>749.860442</td>\n",
       "      <td>2781.697521</td>\n",
       "    </tr>\n",
       "  </tbody>\n",
       "</table>\n",
       "</div>"
      ],
      "text/plain": [
       "      Impression        Click    Purchase      Earning\n",
       "0  120103.503796  3216.547958  702.160346  1939.611243\n",
       "1  134775.943363  3635.082422  834.054286  2929.405820\n",
       "2  107806.620788  3057.143560  422.934258  2526.244877\n",
       "3  116445.275526  4650.473911  429.033535  2281.428574\n",
       "4  145082.516838  5201.387724  749.860442  2781.697521"
      ]
     },
     "execution_count": 10,
     "metadata": {},
     "output_type": "execute_result"
    }
   ],
   "source": [
    "df_avebid.head()"
   ]
  },
  {
   "cell_type": "markdown",
   "id": "2ff539ef",
   "metadata": {
    "papermill": {
     "duration": 0.008196,
     "end_time": "2023-10-26T14:55:08.548900",
     "exception": false,
     "start_time": "2023-10-26T14:55:08.540704",
     "status": "completed"
    },
    "tags": []
   },
   "source": [
    "## Defining the Hypothesis of A/B Testing"
   ]
  },
  {
   "cell_type": "markdown",
   "id": "7a007374",
   "metadata": {
    "papermill": {
     "duration": 0.008078,
     "end_time": "2023-10-26T14:55:08.565299",
     "exception": false,
     "start_time": "2023-10-26T14:55:08.557221",
     "status": "completed"
    },
    "tags": []
   },
   "source": [
    "#H0=M1=M2\n",
    "#There is no statistically significant difference in the purchasing averages of the Control and Test groups.\n",
    "\n",
    "\n",
    "#H1= M1 != M2\n",
    "#There is a statistically significant difference in the purchasing averages of the Control and Test groups."
   ]
  },
  {
   "cell_type": "code",
   "execution_count": 11,
   "id": "8b840c37",
   "metadata": {
    "execution": {
     "iopub.execute_input": "2023-10-26T14:55:08.585013Z",
     "iopub.status.busy": "2023-10-26T14:55:08.583791Z",
     "iopub.status.idle": "2023-10-26T14:55:08.590406Z",
     "shell.execute_reply": "2023-10-26T14:55:08.589158Z"
    },
    "papermill": {
     "duration": 0.018718,
     "end_time": "2023-10-26T14:55:08.592561",
     "exception": false,
     "start_time": "2023-10-26T14:55:08.573843",
     "status": "completed"
    },
    "tags": []
   },
   "outputs": [],
   "source": [
    "df_maxbid[\"group\"]=\"Control_Group\"\n",
    "df_avebid[\"group\"]=\"Test_Group\""
   ]
  },
  {
   "cell_type": "code",
   "execution_count": 12,
   "id": "bea8af11",
   "metadata": {
    "execution": {
     "iopub.execute_input": "2023-10-26T14:55:08.611893Z",
     "iopub.status.busy": "2023-10-26T14:55:08.611124Z",
     "iopub.status.idle": "2023-10-26T14:55:08.619570Z",
     "shell.execute_reply": "2023-10-26T14:55:08.618167Z"
    },
    "papermill": {
     "duration": 0.02114,
     "end_time": "2023-10-26T14:55:08.622146",
     "exception": false,
     "start_time": "2023-10-26T14:55:08.601006",
     "status": "completed"
    },
    "tags": []
   },
   "outputs": [],
   "source": [
    "df=pd.concat([df_maxbid,df_avebid],ignore_index=True)"
   ]
  },
  {
   "cell_type": "code",
   "execution_count": 13,
   "id": "92d6a95b",
   "metadata": {
    "_kg_hide-input": false,
    "_kg_hide-output": true,
    "execution": {
     "iopub.execute_input": "2023-10-26T14:55:08.641351Z",
     "iopub.status.busy": "2023-10-26T14:55:08.640884Z",
     "iopub.status.idle": "2023-10-26T14:55:08.662180Z",
     "shell.execute_reply": "2023-10-26T14:55:08.660914Z"
    },
    "papermill": {
     "duration": 0.034163,
     "end_time": "2023-10-26T14:55:08.664755",
     "exception": false,
     "start_time": "2023-10-26T14:55:08.630592",
     "status": "completed"
    },
    "tags": []
   },
   "outputs": [
    {
     "data": {
      "text/html": [
       "<div>\n",
       "<style scoped>\n",
       "    .dataframe tbody tr th:only-of-type {\n",
       "        vertical-align: middle;\n",
       "    }\n",
       "\n",
       "    .dataframe tbody tr th {\n",
       "        vertical-align: top;\n",
       "    }\n",
       "\n",
       "    .dataframe thead th {\n",
       "        text-align: right;\n",
       "    }\n",
       "</style>\n",
       "<table border=\"1\" class=\"dataframe\">\n",
       "  <thead>\n",
       "    <tr style=\"text-align: right;\">\n",
       "      <th></th>\n",
       "      <th>Impression</th>\n",
       "      <th>Click</th>\n",
       "      <th>Purchase</th>\n",
       "      <th>Earning</th>\n",
       "      <th>group</th>\n",
       "    </tr>\n",
       "  </thead>\n",
       "  <tbody>\n",
       "    <tr>\n",
       "      <th>0</th>\n",
       "      <td>82529.459271</td>\n",
       "      <td>6090.077317</td>\n",
       "      <td>665.211255</td>\n",
       "      <td>2311.277143</td>\n",
       "      <td>Control_Group</td>\n",
       "    </tr>\n",
       "    <tr>\n",
       "      <th>1</th>\n",
       "      <td>98050.451926</td>\n",
       "      <td>3382.861786</td>\n",
       "      <td>315.084895</td>\n",
       "      <td>1742.806855</td>\n",
       "      <td>Control_Group</td>\n",
       "    </tr>\n",
       "    <tr>\n",
       "      <th>2</th>\n",
       "      <td>82696.023549</td>\n",
       "      <td>4167.965750</td>\n",
       "      <td>458.083738</td>\n",
       "      <td>1797.827447</td>\n",
       "      <td>Control_Group</td>\n",
       "    </tr>\n",
       "    <tr>\n",
       "      <th>3</th>\n",
       "      <td>109914.400398</td>\n",
       "      <td>4910.882240</td>\n",
       "      <td>487.090773</td>\n",
       "      <td>1696.229178</td>\n",
       "      <td>Control_Group</td>\n",
       "    </tr>\n",
       "    <tr>\n",
       "      <th>4</th>\n",
       "      <td>108457.762630</td>\n",
       "      <td>5987.655811</td>\n",
       "      <td>441.034050</td>\n",
       "      <td>1543.720179</td>\n",
       "      <td>Control_Group</td>\n",
       "    </tr>\n",
       "    <tr>\n",
       "      <th>5</th>\n",
       "      <td>77773.633900</td>\n",
       "      <td>4462.206586</td>\n",
       "      <td>519.669656</td>\n",
       "      <td>2081.851850</td>\n",
       "      <td>Control_Group</td>\n",
       "    </tr>\n",
       "    <tr>\n",
       "      <th>6</th>\n",
       "      <td>95110.586266</td>\n",
       "      <td>3555.580670</td>\n",
       "      <td>512.928746</td>\n",
       "      <td>1815.006614</td>\n",
       "      <td>Control_Group</td>\n",
       "    </tr>\n",
       "    <tr>\n",
       "      <th>7</th>\n",
       "      <td>106649.183075</td>\n",
       "      <td>4358.027043</td>\n",
       "      <td>747.020123</td>\n",
       "      <td>1965.100400</td>\n",
       "      <td>Control_Group</td>\n",
       "    </tr>\n",
       "    <tr>\n",
       "      <th>8</th>\n",
       "      <td>122709.716594</td>\n",
       "      <td>5091.558964</td>\n",
       "      <td>745.985682</td>\n",
       "      <td>1651.662991</td>\n",
       "      <td>Control_Group</td>\n",
       "    </tr>\n",
       "    <tr>\n",
       "      <th>9</th>\n",
       "      <td>79498.248658</td>\n",
       "      <td>6653.845515</td>\n",
       "      <td>470.501367</td>\n",
       "      <td>2456.304240</td>\n",
       "      <td>Control_Group</td>\n",
       "    </tr>\n",
       "    <tr>\n",
       "      <th>10</th>\n",
       "      <td>83676.936008</td>\n",
       "      <td>4273.400211</td>\n",
       "      <td>386.097881</td>\n",
       "      <td>2174.093569</td>\n",
       "      <td>Control_Group</td>\n",
       "    </tr>\n",
       "    <tr>\n",
       "      <th>11</th>\n",
       "      <td>132781.019865</td>\n",
       "      <td>5830.006522</td>\n",
       "      <td>628.872366</td>\n",
       "      <td>1992.224793</td>\n",
       "      <td>Control_Group</td>\n",
       "    </tr>\n",
       "    <tr>\n",
       "      <th>12</th>\n",
       "      <td>87939.422248</td>\n",
       "      <td>3993.319264</td>\n",
       "      <td>613.712315</td>\n",
       "      <td>1654.701285</td>\n",
       "      <td>Control_Group</td>\n",
       "    </tr>\n",
       "    <tr>\n",
       "      <th>13</th>\n",
       "      <td>117827.061533</td>\n",
       "      <td>5560.367663</td>\n",
       "      <td>739.537189</td>\n",
       "      <td>1985.220644</td>\n",
       "      <td>Control_Group</td>\n",
       "    </tr>\n",
       "    <tr>\n",
       "      <th>14</th>\n",
       "      <td>129146.689584</td>\n",
       "      <td>5537.609242</td>\n",
       "      <td>458.155925</td>\n",
       "      <td>1601.407159</td>\n",
       "      <td>Control_Group</td>\n",
       "    </tr>\n",
       "    <tr>\n",
       "      <th>15</th>\n",
       "      <td>101616.465549</td>\n",
       "      <td>5323.548253</td>\n",
       "      <td>801.795020</td>\n",
       "      <td>2182.161708</td>\n",
       "      <td>Control_Group</td>\n",
       "    </tr>\n",
       "    <tr>\n",
       "      <th>16</th>\n",
       "      <td>45475.942965</td>\n",
       "      <td>7370.214380</td>\n",
       "      <td>400.188826</td>\n",
       "      <td>1253.989525</td>\n",
       "      <td>Control_Group</td>\n",
       "    </tr>\n",
       "    <tr>\n",
       "      <th>17</th>\n",
       "      <td>147539.336329</td>\n",
       "      <td>3856.726853</td>\n",
       "      <td>329.377032</td>\n",
       "      <td>2143.589914</td>\n",
       "      <td>Control_Group</td>\n",
       "    </tr>\n",
       "    <tr>\n",
       "      <th>18</th>\n",
       "      <td>82067.899936</td>\n",
       "      <td>6609.183433</td>\n",
       "      <td>267.028943</td>\n",
       "      <td>1791.798984</td>\n",
       "      <td>Control_Group</td>\n",
       "    </tr>\n",
       "    <tr>\n",
       "      <th>19</th>\n",
       "      <td>81872.985723</td>\n",
       "      <td>7959.125069</td>\n",
       "      <td>729.161549</td>\n",
       "      <td>1331.696457</td>\n",
       "      <td>Control_Group</td>\n",
       "    </tr>\n",
       "    <tr>\n",
       "      <th>20</th>\n",
       "      <td>105493.023207</td>\n",
       "      <td>2189.753157</td>\n",
       "      <td>666.482067</td>\n",
       "      <td>2111.873740</td>\n",
       "      <td>Control_Group</td>\n",
       "    </tr>\n",
       "    <tr>\n",
       "      <th>21</th>\n",
       "      <td>96122.657620</td>\n",
       "      <td>7453.150820</td>\n",
       "      <td>513.578829</td>\n",
       "      <td>1629.791815</td>\n",
       "      <td>Control_Group</td>\n",
       "    </tr>\n",
       "    <tr>\n",
       "      <th>22</th>\n",
       "      <td>83676.602428</td>\n",
       "      <td>7153.974195</td>\n",
       "      <td>487.828774</td>\n",
       "      <td>1989.641918</td>\n",
       "      <td>Control_Group</td>\n",
       "    </tr>\n",
       "    <tr>\n",
       "      <th>23</th>\n",
       "      <td>80254.331644</td>\n",
       "      <td>3075.311196</td>\n",
       "      <td>530.679884</td>\n",
       "      <td>2101.319485</td>\n",
       "      <td>Control_Group</td>\n",
       "    </tr>\n",
       "    <tr>\n",
       "      <th>24</th>\n",
       "      <td>123961.868719</td>\n",
       "      <td>4898.788414</td>\n",
       "      <td>585.639167</td>\n",
       "      <td>2042.182931</td>\n",
       "      <td>Control_Group</td>\n",
       "    </tr>\n",
       "    <tr>\n",
       "      <th>25</th>\n",
       "      <td>94472.196589</td>\n",
       "      <td>5937.479474</td>\n",
       "      <td>686.412286</td>\n",
       "      <td>1616.589007</td>\n",
       "      <td>Control_Group</td>\n",
       "    </tr>\n",
       "    <tr>\n",
       "      <th>26</th>\n",
       "      <td>110479.806824</td>\n",
       "      <td>3585.031678</td>\n",
       "      <td>531.732729</td>\n",
       "      <td>2185.694897</td>\n",
       "      <td>Control_Group</td>\n",
       "    </tr>\n",
       "    <tr>\n",
       "      <th>27</th>\n",
       "      <td>136171.271652</td>\n",
       "      <td>5784.321927</td>\n",
       "      <td>772.032879</td>\n",
       "      <td>1704.134541</td>\n",
       "      <td>Control_Group</td>\n",
       "    </tr>\n",
       "    <tr>\n",
       "      <th>28</th>\n",
       "      <td>114341.401546</td>\n",
       "      <td>3806.145805</td>\n",
       "      <td>620.135875</td>\n",
       "      <td>1896.749695</td>\n",
       "      <td>Control_Group</td>\n",
       "    </tr>\n",
       "    <tr>\n",
       "      <th>29</th>\n",
       "      <td>94923.683705</td>\n",
       "      <td>5678.981962</td>\n",
       "      <td>468.878031</td>\n",
       "      <td>1857.201862</td>\n",
       "      <td>Control_Group</td>\n",
       "    </tr>\n",
       "    <tr>\n",
       "      <th>30</th>\n",
       "      <td>108051.824052</td>\n",
       "      <td>5919.244970</td>\n",
       "      <td>521.258111</td>\n",
       "      <td>2015.055471</td>\n",
       "      <td>Control_Group</td>\n",
       "    </tr>\n",
       "    <tr>\n",
       "      <th>31</th>\n",
       "      <td>92044.500107</td>\n",
       "      <td>4667.205227</td>\n",
       "      <td>729.365262</td>\n",
       "      <td>2497.295218</td>\n",
       "      <td>Control_Group</td>\n",
       "    </tr>\n",
       "    <tr>\n",
       "      <th>32</th>\n",
       "      <td>101530.950229</td>\n",
       "      <td>5626.901227</td>\n",
       "      <td>555.002024</td>\n",
       "      <td>2090.371280</td>\n",
       "      <td>Control_Group</td>\n",
       "    </tr>\n",
       "    <tr>\n",
       "      <th>33</th>\n",
       "      <td>94225.520522</td>\n",
       "      <td>5255.638665</td>\n",
       "      <td>619.867188</td>\n",
       "      <td>2090.361081</td>\n",
       "      <td>Control_Group</td>\n",
       "    </tr>\n",
       "    <tr>\n",
       "      <th>34</th>\n",
       "      <td>94138.627502</td>\n",
       "      <td>6994.184100</td>\n",
       "      <td>593.025791</td>\n",
       "      <td>1571.870842</td>\n",
       "      <td>Control_Group</td>\n",
       "    </tr>\n",
       "    <tr>\n",
       "      <th>35</th>\n",
       "      <td>132064.219003</td>\n",
       "      <td>3747.157544</td>\n",
       "      <td>551.072406</td>\n",
       "      <td>2256.975589</td>\n",
       "      <td>Control_Group</td>\n",
       "    </tr>\n",
       "    <tr>\n",
       "      <th>36</th>\n",
       "      <td>86409.941796</td>\n",
       "      <td>4608.256205</td>\n",
       "      <td>345.046033</td>\n",
       "      <td>1781.357690</td>\n",
       "      <td>Control_Group</td>\n",
       "    </tr>\n",
       "    <tr>\n",
       "      <th>37</th>\n",
       "      <td>123678.934234</td>\n",
       "      <td>3649.073787</td>\n",
       "      <td>476.168128</td>\n",
       "      <td>2187.721217</td>\n",
       "      <td>Control_Group</td>\n",
       "    </tr>\n",
       "    <tr>\n",
       "      <th>38</th>\n",
       "      <td>101997.494099</td>\n",
       "      <td>4736.353369</td>\n",
       "      <td>474.613537</td>\n",
       "      <td>2254.563834</td>\n",
       "      <td>Control_Group</td>\n",
       "    </tr>\n",
       "    <tr>\n",
       "      <th>39</th>\n",
       "      <td>121085.881220</td>\n",
       "      <td>4285.178608</td>\n",
       "      <td>590.406020</td>\n",
       "      <td>1289.308948</td>\n",
       "      <td>Control_Group</td>\n",
       "    </tr>\n",
       "    <tr>\n",
       "      <th>40</th>\n",
       "      <td>120103.503796</td>\n",
       "      <td>3216.547958</td>\n",
       "      <td>702.160346</td>\n",
       "      <td>1939.611243</td>\n",
       "      <td>Test_Group</td>\n",
       "    </tr>\n",
       "    <tr>\n",
       "      <th>41</th>\n",
       "      <td>134775.943363</td>\n",
       "      <td>3635.082422</td>\n",
       "      <td>834.054286</td>\n",
       "      <td>2929.405820</td>\n",
       "      <td>Test_Group</td>\n",
       "    </tr>\n",
       "    <tr>\n",
       "      <th>42</th>\n",
       "      <td>107806.620788</td>\n",
       "      <td>3057.143560</td>\n",
       "      <td>422.934258</td>\n",
       "      <td>2526.244877</td>\n",
       "      <td>Test_Group</td>\n",
       "    </tr>\n",
       "    <tr>\n",
       "      <th>43</th>\n",
       "      <td>116445.275526</td>\n",
       "      <td>4650.473911</td>\n",
       "      <td>429.033535</td>\n",
       "      <td>2281.428574</td>\n",
       "      <td>Test_Group</td>\n",
       "    </tr>\n",
       "    <tr>\n",
       "      <th>44</th>\n",
       "      <td>145082.516838</td>\n",
       "      <td>5201.387724</td>\n",
       "      <td>749.860442</td>\n",
       "      <td>2781.697521</td>\n",
       "      <td>Test_Group</td>\n",
       "    </tr>\n",
       "    <tr>\n",
       "      <th>45</th>\n",
       "      <td>115923.006949</td>\n",
       "      <td>4213.868620</td>\n",
       "      <td>778.373161</td>\n",
       "      <td>2157.408552</td>\n",
       "      <td>Test_Group</td>\n",
       "    </tr>\n",
       "    <tr>\n",
       "      <th>46</th>\n",
       "      <td>106116.436642</td>\n",
       "      <td>3279.472973</td>\n",
       "      <td>491.614531</td>\n",
       "      <td>2560.411202</td>\n",
       "      <td>Test_Group</td>\n",
       "    </tr>\n",
       "    <tr>\n",
       "      <th>47</th>\n",
       "      <td>125957.116104</td>\n",
       "      <td>4690.569911</td>\n",
       "      <td>855.719803</td>\n",
       "      <td>2563.579756</td>\n",
       "      <td>Test_Group</td>\n",
       "    </tr>\n",
       "    <tr>\n",
       "      <th>48</th>\n",
       "      <td>117442.864652</td>\n",
       "      <td>3907.939237</td>\n",
       "      <td>660.477912</td>\n",
       "      <td>2242.232586</td>\n",
       "      <td>Test_Group</td>\n",
       "    </tr>\n",
       "    <tr>\n",
       "      <th>49</th>\n",
       "      <td>131271.715604</td>\n",
       "      <td>4721.187812</td>\n",
       "      <td>532.279336</td>\n",
       "      <td>2368.108569</td>\n",
       "      <td>Test_Group</td>\n",
       "    </tr>\n",
       "  </tbody>\n",
       "</table>\n",
       "</div>"
      ],
      "text/plain": [
       "       Impression        Click    Purchase      Earning          group\n",
       "0    82529.459271  6090.077317  665.211255  2311.277143  Control_Group\n",
       "1    98050.451926  3382.861786  315.084895  1742.806855  Control_Group\n",
       "2    82696.023549  4167.965750  458.083738  1797.827447  Control_Group\n",
       "3   109914.400398  4910.882240  487.090773  1696.229178  Control_Group\n",
       "4   108457.762630  5987.655811  441.034050  1543.720179  Control_Group\n",
       "5    77773.633900  4462.206586  519.669656  2081.851850  Control_Group\n",
       "6    95110.586266  3555.580670  512.928746  1815.006614  Control_Group\n",
       "7   106649.183075  4358.027043  747.020123  1965.100400  Control_Group\n",
       "8   122709.716594  5091.558964  745.985682  1651.662991  Control_Group\n",
       "9    79498.248658  6653.845515  470.501367  2456.304240  Control_Group\n",
       "10   83676.936008  4273.400211  386.097881  2174.093569  Control_Group\n",
       "11  132781.019865  5830.006522  628.872366  1992.224793  Control_Group\n",
       "12   87939.422248  3993.319264  613.712315  1654.701285  Control_Group\n",
       "13  117827.061533  5560.367663  739.537189  1985.220644  Control_Group\n",
       "14  129146.689584  5537.609242  458.155925  1601.407159  Control_Group\n",
       "15  101616.465549  5323.548253  801.795020  2182.161708  Control_Group\n",
       "16   45475.942965  7370.214380  400.188826  1253.989525  Control_Group\n",
       "17  147539.336329  3856.726853  329.377032  2143.589914  Control_Group\n",
       "18   82067.899936  6609.183433  267.028943  1791.798984  Control_Group\n",
       "19   81872.985723  7959.125069  729.161549  1331.696457  Control_Group\n",
       "20  105493.023207  2189.753157  666.482067  2111.873740  Control_Group\n",
       "21   96122.657620  7453.150820  513.578829  1629.791815  Control_Group\n",
       "22   83676.602428  7153.974195  487.828774  1989.641918  Control_Group\n",
       "23   80254.331644  3075.311196  530.679884  2101.319485  Control_Group\n",
       "24  123961.868719  4898.788414  585.639167  2042.182931  Control_Group\n",
       "25   94472.196589  5937.479474  686.412286  1616.589007  Control_Group\n",
       "26  110479.806824  3585.031678  531.732729  2185.694897  Control_Group\n",
       "27  136171.271652  5784.321927  772.032879  1704.134541  Control_Group\n",
       "28  114341.401546  3806.145805  620.135875  1896.749695  Control_Group\n",
       "29   94923.683705  5678.981962  468.878031  1857.201862  Control_Group\n",
       "30  108051.824052  5919.244970  521.258111  2015.055471  Control_Group\n",
       "31   92044.500107  4667.205227  729.365262  2497.295218  Control_Group\n",
       "32  101530.950229  5626.901227  555.002024  2090.371280  Control_Group\n",
       "33   94225.520522  5255.638665  619.867188  2090.361081  Control_Group\n",
       "34   94138.627502  6994.184100  593.025791  1571.870842  Control_Group\n",
       "35  132064.219003  3747.157544  551.072406  2256.975589  Control_Group\n",
       "36   86409.941796  4608.256205  345.046033  1781.357690  Control_Group\n",
       "37  123678.934234  3649.073787  476.168128  2187.721217  Control_Group\n",
       "38  101997.494099  4736.353369  474.613537  2254.563834  Control_Group\n",
       "39  121085.881220  4285.178608  590.406020  1289.308948  Control_Group\n",
       "40  120103.503796  3216.547958  702.160346  1939.611243     Test_Group\n",
       "41  134775.943363  3635.082422  834.054286  2929.405820     Test_Group\n",
       "42  107806.620788  3057.143560  422.934258  2526.244877     Test_Group\n",
       "43  116445.275526  4650.473911  429.033535  2281.428574     Test_Group\n",
       "44  145082.516838  5201.387724  749.860442  2781.697521     Test_Group\n",
       "45  115923.006949  4213.868620  778.373161  2157.408552     Test_Group\n",
       "46  106116.436642  3279.472973  491.614531  2560.411202     Test_Group\n",
       "47  125957.116104  4690.569911  855.719803  2563.579756     Test_Group\n",
       "48  117442.864652  3907.939237  660.477912  2242.232586     Test_Group\n",
       "49  131271.715604  4721.187812  532.279336  2368.108569     Test_Group"
      ]
     },
     "execution_count": 13,
     "metadata": {},
     "output_type": "execute_result"
    }
   ],
   "source": [
    "df.head(50)"
   ]
  },
  {
   "cell_type": "code",
   "execution_count": 14,
   "id": "fc9c8598",
   "metadata": {
    "execution": {
     "iopub.execute_input": "2023-10-26T14:55:08.685684Z",
     "iopub.status.busy": "2023-10-26T14:55:08.684795Z",
     "iopub.status.idle": "2023-10-26T14:55:08.701929Z",
     "shell.execute_reply": "2023-10-26T14:55:08.700639Z"
    },
    "papermill": {
     "duration": 0.030305,
     "end_time": "2023-10-26T14:55:08.704461",
     "exception": false,
     "start_time": "2023-10-26T14:55:08.674156",
     "status": "completed"
    },
    "tags": []
   },
   "outputs": [
    {
     "data": {
      "text/html": [
       "<div>\n",
       "<style scoped>\n",
       "    .dataframe tbody tr th:only-of-type {\n",
       "        vertical-align: middle;\n",
       "    }\n",
       "\n",
       "    .dataframe tbody tr th {\n",
       "        vertical-align: top;\n",
       "    }\n",
       "\n",
       "    .dataframe thead th {\n",
       "        text-align: right;\n",
       "    }\n",
       "</style>\n",
       "<table border=\"1\" class=\"dataframe\">\n",
       "  <thead>\n",
       "    <tr style=\"text-align: right;\">\n",
       "      <th></th>\n",
       "      <th>Purchase</th>\n",
       "    </tr>\n",
       "    <tr>\n",
       "      <th>group</th>\n",
       "      <th></th>\n",
       "    </tr>\n",
       "  </thead>\n",
       "  <tbody>\n",
       "    <tr>\n",
       "      <th>Control_Group</th>\n",
       "      <td>550.894059</td>\n",
       "    </tr>\n",
       "    <tr>\n",
       "      <th>Test_Group</th>\n",
       "      <td>582.106097</td>\n",
       "    </tr>\n",
       "  </tbody>\n",
       "</table>\n",
       "</div>"
      ],
      "text/plain": [
       "                 Purchase\n",
       "group                    \n",
       "Control_Group  550.894059\n",
       "Test_Group     582.106097"
      ]
     },
     "execution_count": 14,
     "metadata": {},
     "output_type": "execute_result"
    }
   ],
   "source": [
    "df.groupby(\"group\").agg({\"Purchase\":\"mean\"})"
   ]
  },
  {
   "cell_type": "markdown",
   "id": "37cc1812",
   "metadata": {
    "papermill": {
     "duration": 0.008791,
     "end_time": "2023-10-26T14:55:08.722578",
     "exception": false,
     "start_time": "2023-10-26T14:55:08.713787",
     "status": "completed"
    },
    "tags": []
   },
   "source": [
    "## ASSUMPTION CHECKING\n",
    "****1-NORMALITY ASSUMPTION****\n",
    "\n",
    "    "
   ]
  },
  {
   "cell_type": "markdown",
   "id": "95f07569",
   "metadata": {
    "papermill": {
     "duration": 0.00891,
     "end_time": "2023-10-26T14:55:08.740754",
     "exception": false,
     "start_time": "2023-10-26T14:55:08.731844",
     "status": "completed"
    },
    "tags": []
   },
   "source": [
    "* H0: There is an assumption of normal distribution\n",
    "* H1: There is no assumption of normal distribution"
   ]
  },
  {
   "cell_type": "code",
   "execution_count": 15,
   "id": "106f46d9",
   "metadata": {
    "execution": {
     "iopub.execute_input": "2023-10-26T14:55:08.762632Z",
     "iopub.status.busy": "2023-10-26T14:55:08.761537Z",
     "iopub.status.idle": "2023-10-26T14:55:08.770107Z",
     "shell.execute_reply": "2023-10-26T14:55:08.768483Z"
    },
    "papermill": {
     "duration": 0.022862,
     "end_time": "2023-10-26T14:55:08.772807",
     "exception": false,
     "start_time": "2023-10-26T14:55:08.749945",
     "status": "completed"
    },
    "tags": []
   },
   "outputs": [
    {
     "name": "stdout",
     "output_type": "stream",
     "text": [
      "Test Stat = 0.9773, p-value = 0.5891\n"
     ]
    }
   ],
   "source": [
    "test_stat, pvalue = shapiro(df.loc[df[\"group\"] == \"Control_Group\", \"Purchase\"])\n",
    "print('Test Stat = %.4f, p-value = %.4f' % (test_stat, pvalue))#p-value = 0.5891"
   ]
  },
  {
   "cell_type": "code",
   "execution_count": 16,
   "id": "b9d374d5",
   "metadata": {
    "execution": {
     "iopub.execute_input": "2023-10-26T14:55:08.794166Z",
     "iopub.status.busy": "2023-10-26T14:55:08.793597Z",
     "iopub.status.idle": "2023-10-26T14:55:08.801196Z",
     "shell.execute_reply": "2023-10-26T14:55:08.800071Z"
    },
    "papermill": {
     "duration": 0.021026,
     "end_time": "2023-10-26T14:55:08.803371",
     "exception": false,
     "start_time": "2023-10-26T14:55:08.782345",
     "status": "completed"
    },
    "tags": []
   },
   "outputs": [
    {
     "name": "stdout",
     "output_type": "stream",
     "text": [
      "Test Stat = 0.9589, p-value = 0.1541\n"
     ]
    }
   ],
   "source": [
    "test_stat, pvalue = shapiro(df.loc[df[\"group\"] == \"Test_Group\", \"Purchase\"])\n",
    "print('Test Stat = %.4f, p-value = %.4f' % (test_stat, pvalue))#p-value = 0.1541"
   ]
  },
  {
   "cell_type": "markdown",
   "id": "59657e3c",
   "metadata": {
    "papermill": {
     "duration": 0.008938,
     "end_time": "2023-10-26T14:55:08.821569",
     "exception": false,
     "start_time": "2023-10-26T14:55:08.812631",
     "status": "completed"
    },
    "tags": []
   },
   "source": [
    "* H0 cannot be rejected because p-values is greater than 0.05.\n",
    "* In other words, the Normal distribution assumption is met."
   ]
  },
  {
   "cell_type": "markdown",
   "id": "9c9d5342",
   "metadata": {
    "papermill": {
     "duration": 0.009301,
     "end_time": "2023-10-26T14:55:08.840120",
     "exception": false,
     "start_time": "2023-10-26T14:55:08.830819",
     "status": "completed"
    },
    "tags": []
   },
   "source": [
    "****2-VARIANCE HOMOGENEITY****"
   ]
  },
  {
   "cell_type": "markdown",
   "id": "91ccfc25",
   "metadata": {
    "papermill": {
     "duration": 0.00914,
     "end_time": "2023-10-26T14:55:08.931937",
     "exception": false,
     "start_time": "2023-10-26T14:55:08.922797",
     "status": "completed"
    },
    "tags": []
   },
   "source": [
    "* H0: Variances Are Homogeneous\n",
    "* H1: Variances Are  Not Homogeneous"
   ]
  },
  {
   "cell_type": "code",
   "execution_count": 17,
   "id": "3e388477",
   "metadata": {
    "execution": {
     "iopub.execute_input": "2023-10-26T14:55:08.952809Z",
     "iopub.status.busy": "2023-10-26T14:55:08.952323Z",
     "iopub.status.idle": "2023-10-26T14:55:08.963368Z",
     "shell.execute_reply": "2023-10-26T14:55:08.962030Z"
    },
    "papermill": {
     "duration": 0.024709,
     "end_time": "2023-10-26T14:55:08.966036",
     "exception": false,
     "start_time": "2023-10-26T14:55:08.941327",
     "status": "completed"
    },
    "tags": []
   },
   "outputs": [
    {
     "name": "stdout",
     "output_type": "stream",
     "text": [
      "Test Stat = 2.6393, p-value = 0.1083\n"
     ]
    }
   ],
   "source": [
    "test_stat, pvalue = levene(df.loc[df[\"group\"] == \"Control_Group\", \"Purchase\"],\n",
    "                           df.loc[df[\"group\"] == \"Test_Group\", \"Purchase\"])\n",
    "print('Test Stat = %.4f, p-value = %.4f' % (test_stat, pvalue)) #p-value = 0.1083"
   ]
  },
  {
   "cell_type": "markdown",
   "id": "39851b0b",
   "metadata": {
    "papermill": {
     "duration": 0.009252,
     "end_time": "2023-10-26T14:55:08.985389",
     "exception": false,
     "start_time": "2023-10-26T14:55:08.976137",
     "status": "completed"
    },
    "tags": []
   },
   "source": [
    "* H0 cannot be rejected because the p-value is greater than 0.05.\n",
    "* In other words, the Variance Homogeneity is met"
   ]
  },
  {
   "cell_type": "markdown",
   "id": "0810b7d1",
   "metadata": {
    "papermill": {
     "duration": 0.009555,
     "end_time": "2023-10-26T14:55:09.004525",
     "exception": false,
     "start_time": "2023-10-26T14:55:08.994970",
     "status": "completed"
    },
    "tags": []
   },
   "source": [
    "* Since the assumptions are met, parametric testing will be used:\n",
    "\n"
   ]
  },
  {
   "cell_type": "markdown",
   "id": "bd16ce6e",
   "metadata": {
    "papermill": {
     "duration": 0.009331,
     "end_time": "2023-10-26T14:55:09.024942",
     "exception": false,
     "start_time": "2023-10-26T14:55:09.015611",
     "status": "completed"
    },
    "tags": []
   },
   "source": [
    "## INDEPENDENT TWO-SAMPLE T TEST:"
   ]
  },
  {
   "cell_type": "code",
   "execution_count": 18,
   "id": "44ab8148",
   "metadata": {
    "execution": {
     "iopub.execute_input": "2023-10-26T14:55:09.048084Z",
     "iopub.status.busy": "2023-10-26T14:55:09.046591Z",
     "iopub.status.idle": "2023-10-26T14:55:09.059382Z",
     "shell.execute_reply": "2023-10-26T14:55:09.058232Z"
    },
    "papermill": {
     "duration": 0.026466,
     "end_time": "2023-10-26T14:55:09.061968",
     "exception": false,
     "start_time": "2023-10-26T14:55:09.035502",
     "status": "completed"
    },
    "tags": []
   },
   "outputs": [
    {
     "name": "stdout",
     "output_type": "stream",
     "text": [
      "Test Stat = -0.9416, p-value = 0.3493\n"
     ]
    }
   ],
   "source": [
    "test_stat, pvalue = ttest_ind(df.loc[df[\"group\"] == \"Control_Group\", \"Purchase\"],\n",
    "                              df.loc[df[\"group\"] == \"Test_Group\", \"Purchase\"],\n",
    "                              equal_var=True)\n",
    "\n",
    "print('Test Stat = %.4f, p-value = %.4f' % (test_stat, pvalue)) #p-value = 0.3493"
   ]
  },
  {
   "cell_type": "markdown",
   "id": "f2114412",
   "metadata": {
    "papermill": {
     "duration": 0.009406,
     "end_time": "2023-10-26T14:55:09.081622",
     "exception": false,
     "start_time": "2023-10-26T14:55:09.072216",
     "status": "completed"
    },
    "tags": []
   },
   "source": [
    "## RESULT"
   ]
  },
  {
   "cell_type": "markdown",
   "id": "4a8cdcfd",
   "metadata": {
    "papermill": {
     "duration": 0.009275,
     "end_time": "2023-10-26T14:55:09.101183",
     "exception": false,
     "start_time": "2023-10-26T14:55:09.091908",
     "status": "completed"
    },
    "tags": []
   },
   "source": [
    "* H0 cannot be rejected because the p-value is greater than 0.05.\n",
    "* That is, there is no statistically significant difference in the purchasing averages of the Control and Test groups."
   ]
  }
 ],
 "metadata": {
  "kernelspec": {
   "display_name": "Python 3",
   "language": "python",
   "name": "python3"
  },
  "language_info": {
   "codemirror_mode": {
    "name": "ipython",
    "version": 3
   },
   "file_extension": ".py",
   "mimetype": "text/x-python",
   "name": "python",
   "nbconvert_exporter": "python",
   "pygments_lexer": "ipython3",
   "version": "3.10.12"
  },
  "papermill": {
   "default_parameters": {},
   "duration": 8.678813,
   "end_time": "2023-10-26T14:55:10.040342",
   "environment_variables": {},
   "exception": null,
   "input_path": "__notebook__.ipynb",
   "output_path": "__notebook__.ipynb",
   "parameters": {},
   "start_time": "2023-10-26T14:55:01.361529",
   "version": "2.4.0"
  }
 },
 "nbformat": 4,
 "nbformat_minor": 5
}
